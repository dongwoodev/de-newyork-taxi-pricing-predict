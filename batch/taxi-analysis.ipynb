{
 "cells": [
  {
   "cell_type": "code",
   "execution_count": 1,
   "id": "d7df61ec",
   "metadata": {},
   "outputs": [],
   "source": [
    "from pyspark.sql import SparkSession "
   ]
  },
  {
   "cell_type": "code",
   "execution_count": 8,
   "id": "e4ff4c00",
   "metadata": {},
   "outputs": [],
   "source": [
    "spark = SparkSession.builder.appName(\"taxi-analysis\").getOrCreate()"
   ]
  },
  {
   "cell_type": "markdown",
   "id": "d1b45111",
   "metadata": {},
   "source": [
    "# 데이터 프레임 생성"
   ]
  },
  {
   "cell_type": "code",
   "execution_count": 11,
   "id": "daba38dc",
   "metadata": {},
   "outputs": [],
   "source": [
    "trip_files = '/Users/dongwoo/new_york/data/trips/*' # 모든 파일을 가져온다.\n",
    "zone_file = '/Users/dongwoo/new_york/data/taxi+_zone_lookup.csv' "
   ]
  },
  {
   "cell_type": "code",
   "execution_count": 16,
   "id": "54b572da",
   "metadata": {},
   "outputs": [],
   "source": [
    "trips_df = spark.read.parquet(f\"file:///{trip_files}\", inferSchema=True, header=True)\n",
    "zone_df = spark.read.csv(f\"file:///{zone_file}\", inferSchema=True, header=True)"
   ]
  },
  {
   "cell_type": "markdown",
   "id": "fe33e0d2",
   "metadata": {},
   "source": [
    "### 스키마 파싱"
   ]
  },
  {
   "cell_type": "code",
   "execution_count": 18,
   "id": "c7a5025f",
   "metadata": {},
   "outputs": [
    {
     "name": "stdout",
     "output_type": "stream",
     "text": [
      "root\n",
      " |-- VendorID: long (nullable = true)\n",
      " |-- tpep_pickup_datetime: timestamp (nullable = true)\n",
      " |-- tpep_dropoff_datetime: timestamp (nullable = true)\n",
      " |-- passenger_count: double (nullable = true)\n",
      " |-- trip_distance: double (nullable = true)\n",
      " |-- RatecodeID: double (nullable = true)\n",
      " |-- store_and_fwd_flag: string (nullable = true)\n",
      " |-- PULocationID: long (nullable = true)\n",
      " |-- DOLocationID: long (nullable = true)\n",
      " |-- payment_type: long (nullable = true)\n",
      " |-- fare_amount: double (nullable = true)\n",
      " |-- extra: double (nullable = true)\n",
      " |-- mta_tax: double (nullable = true)\n",
      " |-- tip_amount: double (nullable = true)\n",
      " |-- tolls_amount: double (nullable = true)\n",
      " |-- improvement_surcharge: double (nullable = true)\n",
      " |-- total_amount: double (nullable = true)\n",
      " |-- congestion_surcharge: double (nullable = true)\n",
      " |-- airport_fee: double (nullable = true)\n",
      "\n",
      "root\n",
      " |-- LocationID: integer (nullable = true)\n",
      " |-- Borough: string (nullable = true)\n",
      " |-- Zone: string (nullable = true)\n",
      " |-- service_zone: string (nullable = true)\n",
      "\n"
     ]
    }
   ],
   "source": [
    "trips_df.printSchema()\n",
    "zone_df.printSchema()"
   ]
  },
  {
   "cell_type": "markdown",
   "id": "ed54cf93",
   "metadata": {},
   "source": [
    "### 쿼리"
   ]
  },
  {
   "cell_type": "code",
   "execution_count": 19,
   "id": "77ff75e2",
   "metadata": {},
   "outputs": [],
   "source": [
    "trips_df.createOrReplaceTempView('trips') # trips 라는 테이블로 Temporary View에 저장한다.\n",
    "zone_df.createOrReplaceTempView('zone')"
   ]
  },
  {
   "cell_type": "code",
   "execution_count": 34,
   "id": "188a23a2",
   "metadata": {},
   "outputs": [],
   "source": [
    "query = '''\n",
    "SELECT\n",
    "    t.VendorID AS vender_id,\n",
    "    TO_DATE(t.tpep_pickup_datetime) AS pickup_date,\n",
    "    TO_DATE(t.tpep_dropoff_datetime) AS dropoff_date,\n",
    "    HOUR(t.tpep_pickup_datetime) AS pickup_time,\n",
    "    HOUR(t.tpep_dropoff_datetime) AS dropoff_time,\n",
    "    t.trip_distance,\n",
    "    t.fare_amount,\n",
    "    t.tip_amount,\n",
    "    t.tolls_amount,\n",
    "    t.total_amount,\n",
    "    t.payment_type,\n",
    "    \n",
    "    pz.zone AS pickup_zone,\n",
    "    dz.zone AS dropoff_zone\n",
    "FROM\n",
    "    trips AS t\n",
    "    LEFT JOIN\n",
    "        zone AS pz\n",
    "    ON\n",
    "        t.PULocationID = pz.LocationID\n",
    "    LEFT JOIN\n",
    "        zone AS dz\n",
    "    ON\n",
    "        t.DOLocationID = dz.LocationID\n",
    "'''\n",
    "combination_df = spark.sql(query)\n",
    "# combination_df.show()\n",
    "combination_df.createOrReplaceTempView('comb')"
   ]
  },
  {
   "cell_type": "code",
   "execution_count": 36,
   "id": "52c14c72",
   "metadata": {},
   "outputs": [
    {
     "name": "stdout",
     "output_type": "stream",
     "text": [
      "root\n",
      " |-- vender_id: long (nullable = true)\n",
      " |-- pickup_date: date (nullable = true)\n",
      " |-- dropoff_date: date (nullable = true)\n",
      " |-- pickup_time: integer (nullable = true)\n",
      " |-- dropoff_time: integer (nullable = true)\n",
      " |-- trip_distance: double (nullable = true)\n",
      " |-- fare_amount: double (nullable = true)\n",
      " |-- tip_amount: double (nullable = true)\n",
      " |-- tolls_amount: double (nullable = true)\n",
      " |-- total_amount: double (nullable = true)\n",
      " |-- payment_type: long (nullable = true)\n",
      " |-- pickup_zone: string (nullable = true)\n",
      " |-- dropoff_zone: string (nullable = true)\n",
      "\n"
     ]
    }
   ],
   "source": [
    "combination_df.printSchema()"
   ]
  },
  {
   "cell_type": "markdown",
   "id": "673ce173",
   "metadata": {},
   "source": [
    "```sql\n",
    "SELECT\n",
    "    t.VendorID AS vender_id, -- vender ID\n",
    "    TO_DATE(t.tpep_pickup_datetime) AS pickup_date, -- 상차 날짜\n",
    "    TO_DATE(t.tpep_dropoff_datetime) AS dropoff_date, -- 하차 날짜\n",
    "    HOUR(t.tpep_pickup_datetime) AS pickup_time, -- 상차 시간\n",
    "    HOUR(t.tpep_dropoff_datetime) AS dropoff_time, -- 하차 시간\n",
    "    t.trip_distance, -- 운행 길이\n",
    "    t.fare_amount,- 운행 요금\n",
    "    t.tip_amount, \n",
    "    t.tolls_amount,\n",
    "    t.total_amount, - 전체 지불 \n",
    "    t.payment_type, - 지불 타입\n",
    "    \n",
    "    pz.zone AS pickup_zone,\n",
    "    dz.zone AS dropoff_zone\n",
    "FROM\n",
    "    trips AS t\n",
    "    LEFT JOIN -- pickup\n",
    "        zone AS pz\n",
    "    ON\n",
    "        t.PULocationID = pz.LocationID\n",
    "        \n",
    "    LEFT JOIN -- dropoff\n",
    "        zone AS dz\n",
    "    ON\n",
    "        t.DOLocationID = dz.LocationID\n",
    "```"
   ]
  },
  {
   "cell_type": "markdown",
   "id": "6f51cd91",
   "metadata": {},
   "source": [
    "## 데이터 클리닝"
   ]
  },
  {
   "cell_type": "code",
   "execution_count": 41,
   "id": "dbc6c2bc",
   "metadata": {},
   "outputs": [
    {
     "name": "stdout",
     "output_type": "stream",
     "text": [
      "+-----------+-----------+\n",
      "|pickup_date|pickup_time|\n",
      "+-----------+-----------+\n",
      "| 2009-01-01|          9|\n",
      "| 2009-01-01|          8|\n",
      "| 2009-01-01|          8|\n",
      "| 2009-01-01|          8|\n",
      "| 2009-01-01|          8|\n",
      "| 2009-01-01|          8|\n",
      "| 2009-01-01|          9|\n",
      "| 2009-01-01|          9|\n",
      "| 2009-01-01|         10|\n",
      "| 2009-01-01|         11|\n",
      "| 2009-01-01|          9|\n",
      "| 2009-01-01|          8|\n",
      "| 2009-01-01|         10|\n",
      "| 2009-01-01|          7|\n",
      "| 2009-01-01|          8|\n",
      "| 2009-01-01|          8|\n",
      "| 2009-01-01|          8|\n",
      "| 2003-01-09|         16|\n",
      "| 2009-01-01|          8|\n",
      "| 2009-01-01|          8|\n",
      "+-----------+-----------+\n",
      "only showing top 20 rows\n",
      "\n"
     ]
    }
   ],
   "source": [
    "spark.sql(\"SELECT pickup_date, pickup_time FROM comb WHERE pickup_date < '2020-12-31' \").show()"
   ]
  },
  {
   "cell_type": "code",
   "execution_count": 42,
   "id": "b4990176",
   "metadata": {},
   "outputs": [
    {
     "name": "stderr",
     "output_type": "stream",
     "text": [
      "[Stage 33:======================================>                   (6 + 3) / 9]\r"
     ]
    },
    {
     "name": "stdout",
     "output_type": "stream",
     "text": [
      "+-------+------------------+\n",
      "|summary|      total_amount|\n",
      "+-------+------------------+\n",
      "|  count|          30904308|\n",
      "|   mean|19.696304829291634|\n",
      "| stddev|179.19426093049208|\n",
      "|    min|            -951.0|\n",
      "|    max|         818286.74|\n",
      "+-------+------------------+\n",
      "\n"
     ]
    },
    {
     "name": "stderr",
     "output_type": "stream",
     "text": [
      "\r",
      "                                                                                \r"
     ]
    }
   ],
   "source": [
    "combination_df.select('total_amount').describe().show()"
   ]
  },
  {
   "cell_type": "code",
   "execution_count": 43,
   "id": "3aea5ca4",
   "metadata": {},
   "outputs": [
    {
     "name": "stdout",
     "output_type": "stream",
     "text": [
      "+-------+-----------------+\n",
      "|summary|    trip_distance|\n",
      "+-------+-----------------+\n",
      "|  count|         30904308|\n",
      "|   mean|6.922688674342763|\n",
      "| stddev| 698.379951118258|\n",
      "|    min|              0.0|\n",
      "|    max|        351613.36|\n",
      "+-------+-----------------+\n",
      "\n"
     ]
    },
    {
     "name": "stderr",
     "output_type": "stream",
     "text": [
      "\r",
      "[Stage 37:======================================>                   (6 + 3) / 9]\r",
      "\r",
      "                                                                                \r"
     ]
    }
   ],
   "source": [
    "combination_df.select('trip_distance').describe().show()"
   ]
  },
  {
   "cell_type": "code",
   "execution_count": null,
   "id": "7b708d48",
   "metadata": {},
   "outputs": [],
   "source": []
  }
 ],
 "metadata": {
  "kernelspec": {
   "display_name": "Python 3 (ipykernel)",
   "language": "python",
   "name": "python3"
  },
  "language_info": {
   "codemirror_mode": {
    "name": "ipython",
    "version": 3
   },
   "file_extension": ".py",
   "mimetype": "text/x-python",
   "name": "python",
   "nbconvert_exporter": "python",
   "pygments_lexer": "ipython3",
   "version": "3.9.7"
  }
 },
 "nbformat": 4,
 "nbformat_minor": 5
}

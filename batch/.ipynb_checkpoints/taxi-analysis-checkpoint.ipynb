{
 "cells": [
  {
   "cell_type": "code",
   "execution_count": 1,
   "id": "d7df61ec",
   "metadata": {},
   "outputs": [],
   "source": [
    "from pyspark.sql import SparkSession"
   ]
  },
  {
   "cell_type": "code",
   "execution_count": 2,
   "id": "e4ff4c00",
   "metadata": {},
   "outputs": [
    {
     "name": "stderr",
     "output_type": "stream",
     "text": [
      "22/07/05 19:49:33 WARN Utils: Your hostname, dongwoo.local resolves to a loopback address: 127.0.0.1; using 192.168.55.122 instead (on interface en0)\n",
      "22/07/05 19:49:33 WARN Utils: Set SPARK_LOCAL_IP if you need to bind to another address\n",
      "WARNING: An illegal reflective access operation has occurred\n",
      "WARNING: Illegal reflective access by org.apache.spark.unsafe.Platform (file:/Users/dongwoo/opt/anaconda3/lib/python3.9/site-packages/pyspark/jars/spark-unsafe_2.12-3.2.1.jar) to constructor java.nio.DirectByteBuffer(long,int)\n",
      "WARNING: Please consider reporting this to the maintainers of org.apache.spark.unsafe.Platform\n",
      "WARNING: Use --illegal-access=warn to enable warnings of further illegal reflective access operations\n",
      "WARNING: All illegal access operations will be denied in a future release\n",
      "Using Spark's default log4j profile: org/apache/spark/log4j-defaults.properties\n",
      "Setting default log level to \"WARN\".\n",
      "To adjust logging level use sc.setLogLevel(newLevel). For SparkR, use setLogLevel(newLevel).\n",
      "22/07/05 19:49:34 WARN NativeCodeLoader: Unable to load native-hadoop library for your platform... using builtin-java classes where applicable\n"
     ]
    }
   ],
   "source": [
    "spark = SparkSession.builder.appName(\"taxi-analysis\").getOrCreate()"
   ]
  },
  {
   "cell_type": "markdown",
   "id": "d1b45111",
   "metadata": {},
   "source": [
    "# 데이터 프레임 생성"
   ]
  },
  {
   "cell_type": "code",
   "execution_count": 3,
   "id": "daba38dc",
   "metadata": {},
   "outputs": [],
   "source": [
    "trip_files = '/Users/dongwoo/new_york/data/trips/*' # 모든 파일을 가져온다.\n",
    "zone_file = '/Users/dongwoo/new_york/data/taxi+_zone_lookup.csv' "
   ]
  },
  {
   "cell_type": "code",
   "execution_count": 4,
   "id": "54b572da",
   "metadata": {},
   "outputs": [],
   "source": [
    "trips_df = spark.read.parquet(f\"file:///{trip_files}\", inferSchema=True, header=True)\n",
    "zone_df = spark.read.csv(f\"file:///{zone_file}\", inferSchema=True, header=True)"
   ]
  },
  {
   "cell_type": "markdown",
   "id": "fe33e0d2",
   "metadata": {},
   "source": [
    "### 스키마 파싱"
   ]
  },
  {
   "cell_type": "code",
   "execution_count": 5,
   "id": "c7a5025f",
   "metadata": {},
   "outputs": [
    {
     "name": "stdout",
     "output_type": "stream",
     "text": [
      "root\n",
      " |-- VendorID: long (nullable = true)\n",
      " |-- tpep_pickup_datetime: timestamp (nullable = true)\n",
      " |-- tpep_dropoff_datetime: timestamp (nullable = true)\n",
      " |-- passenger_count: double (nullable = true)\n",
      " |-- trip_distance: double (nullable = true)\n",
      " |-- RatecodeID: double (nullable = true)\n",
      " |-- store_and_fwd_flag: string (nullable = true)\n",
      " |-- PULocationID: long (nullable = true)\n",
      " |-- DOLocationID: long (nullable = true)\n",
      " |-- payment_type: long (nullable = true)\n",
      " |-- fare_amount: double (nullable = true)\n",
      " |-- extra: double (nullable = true)\n",
      " |-- mta_tax: double (nullable = true)\n",
      " |-- tip_amount: double (nullable = true)\n",
      " |-- tolls_amount: double (nullable = true)\n",
      " |-- improvement_surcharge: double (nullable = true)\n",
      " |-- total_amount: double (nullable = true)\n",
      " |-- congestion_surcharge: double (nullable = true)\n",
      " |-- airport_fee: double (nullable = true)\n",
      "\n",
      "root\n",
      " |-- LocationID: integer (nullable = true)\n",
      " |-- Borough: string (nullable = true)\n",
      " |-- Zone: string (nullable = true)\n",
      " |-- service_zone: string (nullable = true)\n",
      "\n"
     ]
    }
   ],
   "source": [
    "trips_df.printSchema()\n",
    "zone_df.printSchema()"
   ]
  },
  {
   "cell_type": "markdown",
   "id": "ed54cf93",
   "metadata": {},
   "source": [
    "### 쿼리"
   ]
  },
  {
   "cell_type": "code",
   "execution_count": 6,
   "id": "77ff75e2",
   "metadata": {},
   "outputs": [],
   "source": [
    "trips_df.createOrReplaceTempView('trips') # trips 라는 테이블로 Temporary View에 저장한다.\n",
    "zone_df.createOrReplaceTempView('zone')"
   ]
  },
  {
   "cell_type": "code",
   "execution_count": 16,
   "id": "188a23a2",
   "metadata": {},
   "outputs": [],
   "source": [
    "query = '''\n",
    "SELECT\n",
    "    t.VendorID AS vender_id,\n",
    "    TO_DATE(t.tpep_pickup_datetime) AS pickup_date,\n",
    "    TO_DATE(t.tpep_dropoff_datetime) AS dropoff_date,\n",
    "    HOUR(t.tpep_pickup_datetime) AS pickup_time,\n",
    "    HOUR(t.tpep_dropoff_datetime) AS dropoff_time,\n",
    "    t.passenger_count,\n",
    "    t.trip_distance,\n",
    "    t.fare_amount,\n",
    "    t.tip_amount,\n",
    "    t.tolls_amount,\n",
    "    t.total_amount,\n",
    "    t.payment_type,\n",
    "    \n",
    "    pz.zone AS pickup_zone,\n",
    "    dz.zone AS dropoff_zone\n",
    "FROM\n",
    "    trips AS t\n",
    "    LEFT JOIN\n",
    "        zone AS pz\n",
    "    ON\n",
    "        t.PULocationID = pz.LocationID\n",
    "    LEFT JOIN\n",
    "        zone AS dz\n",
    "    ON\n",
    "        t.DOLocationID = dz.LocationID\n",
    "'''\n",
    "combination_df = spark.sql(query)\n",
    "# combination_df.show()\n",
    "combination_df.createOrReplaceTempView('comb')"
   ]
  },
  {
   "cell_type": "code",
   "execution_count": 17,
   "id": "52c14c72",
   "metadata": {},
   "outputs": [
    {
     "name": "stdout",
     "output_type": "stream",
     "text": [
      "root\n",
      " |-- vender_id: long (nullable = true)\n",
      " |-- pickup_date: date (nullable = true)\n",
      " |-- dropoff_date: date (nullable = true)\n",
      " |-- pickup_time: integer (nullable = true)\n",
      " |-- dropoff_time: integer (nullable = true)\n",
      " |-- passenger_count: double (nullable = true)\n",
      " |-- trip_distance: double (nullable = true)\n",
      " |-- fare_amount: double (nullable = true)\n",
      " |-- tip_amount: double (nullable = true)\n",
      " |-- tolls_amount: double (nullable = true)\n",
      " |-- total_amount: double (nullable = true)\n",
      " |-- payment_type: long (nullable = true)\n",
      " |-- pickup_zone: string (nullable = true)\n",
      " |-- dropoff_zone: string (nullable = true)\n",
      "\n"
     ]
    }
   ],
   "source": [
    "combination_df.printSchema()"
   ]
  },
  {
   "cell_type": "markdown",
   "id": "673ce173",
   "metadata": {},
   "source": [
    "```sql\n",
    "SELECT\n",
    "    t.VendorID AS vender_id, -- vender ID\n",
    "    TO_DATE(t.tpep_pickup_datetime) AS pickup_date, -- 상차 날짜\n",
    "    TO_DATE(t.tpep_dropoff_datetime) AS dropoff_date, -- 하차 날짜\n",
    "    HOUR(t.tpep_pickup_datetime) AS pickup_time, -- 상차 시간\n",
    "    HOUR(t.tpep_dropoff_datetime) AS dropoff_time, -- 하차 시간\n",
    "    t.passenger_count, -- 탑승자 수\n",
    "    t.trip_distance, -- 운행 길이\n",
    "    t.fare_amount,-- 운행 요금\n",
    "    t.tip_amount, \n",
    "    t.tolls_amount,\n",
    "    t.total_amount, -- 전체 지불 \n",
    "    t.payment_type, -- 지불 타입\n",
    "    \n",
    "    pz.zone AS pickup_zone,\n",
    "    dz.zone AS dropoff_zone\n",
    "FROM\n",
    "    trips AS t\n",
    "    LEFT JOIN -- pickup\n",
    "        zone AS pz\n",
    "    ON\n",
    "        t.PULocationID = pz.LocationID\n",
    "        \n",
    "    LEFT JOIN -- dropoff\n",
    "        zone AS dz\n",
    "    ON\n",
    "        t.DOLocationID = dz.LocationID\n",
    "```"
   ]
  },
  {
   "cell_type": "markdown",
   "id": "6f51cd91",
   "metadata": {},
   "source": [
    "# 데이터 클리닝"
   ]
  },
  {
   "cell_type": "markdown",
   "id": "66269142",
   "metadata": {},
   "source": [
    "### 데이터 확인"
   ]
  },
  {
   "cell_type": "code",
   "execution_count": 19,
   "id": "dbc6c2bc",
   "metadata": {},
   "outputs": [
    {
     "name": "stdout",
     "output_type": "stream",
     "text": [
      "+-----------+-----------+\n",
      "|pickup_date|pickup_time|\n",
      "+-----------+-----------+\n",
      "| 2009-01-01|          9|\n",
      "| 2009-01-01|          8|\n",
      "| 2009-01-01|          8|\n",
      "| 2009-01-01|          8|\n",
      "| 2009-01-01|          8|\n",
      "| 2009-01-01|          8|\n",
      "| 2009-01-01|          9|\n",
      "| 2009-01-01|          9|\n",
      "| 2009-01-01|         10|\n",
      "| 2009-01-01|         11|\n",
      "| 2009-01-01|          9|\n",
      "| 2009-01-01|          8|\n",
      "| 2009-01-01|         10|\n",
      "| 2009-01-01|          7|\n",
      "| 2009-01-01|          8|\n",
      "| 2009-01-01|          8|\n",
      "| 2009-01-01|          8|\n",
      "| 2003-01-09|         16|\n",
      "| 2009-01-01|          8|\n",
      "| 2009-01-01|          8|\n",
      "+-----------+-----------+\n",
      "only showing top 20 rows\n",
      "\n"
     ]
    }
   ],
   "source": [
    "spark.sql(\"SELECT pickup_date, pickup_time FROM comb WHERE pickup_date < '2020-12-31' \").show()"
   ]
  },
  {
   "cell_type": "code",
   "execution_count": 20,
   "id": "b4990176",
   "metadata": {},
   "outputs": [
    {
     "name": "stdout",
     "output_type": "stream",
     "text": [
      "+-------+------------------+\n",
      "|summary|      total_amount|\n",
      "+-------+------------------+\n",
      "|  count|          30904308|\n",
      "|   mean|19.696304829291634|\n",
      "| stddev|179.19426093049208|\n",
      "|    min|            -951.0|\n",
      "|    max|         818286.74|\n",
      "+-------+------------------+\n",
      "\n"
     ]
    },
    {
     "name": "stderr",
     "output_type": "stream",
     "text": [
      "\r",
      "[Stage 28:===================================================>      (8 + 1) / 9]\r",
      "\r",
      "                                                                                \r"
     ]
    }
   ],
   "source": [
    "combination_df.select('total_amount').describe().show()"
   ]
  },
  {
   "cell_type": "code",
   "execution_count": 21,
   "id": "3aea5ca4",
   "metadata": {},
   "outputs": [
    {
     "name": "stdout",
     "output_type": "stream",
     "text": [
      "+-------+-----------------+\n",
      "|summary|    trip_distance|\n",
      "+-------+-----------------+\n",
      "|  count|         30904308|\n",
      "|   mean|6.922688674342763|\n",
      "| stddev| 698.379951118258|\n",
      "|    min|              0.0|\n",
      "|    max|        351613.36|\n",
      "+-------+-----------------+\n",
      "\n"
     ]
    },
    {
     "name": "stderr",
     "output_type": "stream",
     "text": [
      "\r",
      "[Stage 32:===================================================>      (8 + 1) / 9]\r",
      "\r",
      "                                                                                \r"
     ]
    }
   ],
   "source": [
    "combination_df.select('trip_distance').describe().show()"
   ]
  },
  {
   "cell_type": "markdown",
   "id": "75537c2c",
   "metadata": {},
   "source": [
    "`max`값이 엄청 높게 나왔다."
   ]
  },
  {
   "cell_type": "code",
   "execution_count": 22,
   "id": "04046e36",
   "metadata": {},
   "outputs": [
    {
     "name": "stdout",
     "output_type": "stream",
     "text": [
      "+-------+------------------+\n",
      "|summary|   passenger_count|\n",
      "+-------+------------------+\n",
      "|  count|          29425613|\n",
      "|   mean|1.4274682399989425|\n",
      "| stddev|1.0333753094086533|\n",
      "|    min|               0.0|\n",
      "|    max|             112.0|\n",
      "+-------+------------------+\n",
      "\n"
     ]
    }
   ],
   "source": [
    "combination_df.select('passenger_count').describe().show()"
   ]
  },
  {
   "cell_type": "markdown",
   "id": "be1a98ca",
   "metadata": {},
   "source": [
    "`max`값이 112명인것은 뭔가 오류가 있는듯하다."
   ]
  },
  {
   "cell_type": "code",
   "execution_count": 27,
   "id": "f1793bf4",
   "metadata": {},
   "outputs": [
    {
     "name": "stderr",
     "output_type": "stream",
     "text": [
      "[Stage 40:===================================================>      (8 + 1) / 9]\r"
     ]
    },
    {
     "name": "stdout",
     "output_type": "stream",
     "text": [
      "+-------------------+-------+\n",
      "|              month|  trips|\n",
      "+-------------------+-------+\n",
      "|2098-09-01 00:00:00|      1|\n",
      "|2070-08-01 00:00:00|      1|\n",
      "|2029-05-01 00:00:00|      1|\n",
      "|2028-12-01 00:00:00|      1|\n",
      "|2022-03-01 00:00:00|      3|\n",
      "|2022-02-01 00:00:00|     10|\n",
      "|2022-01-01 00:00:00|  38010|\n",
      "|2021-12-01 00:00:00|3238869|\n",
      "|2021-11-01 00:00:00|3455031|\n",
      "|2021-10-01 00:00:00|3481005|\n",
      "|2021-09-01 00:00:00|2950798|\n",
      "|2021-08-01 00:00:00|2788555|\n",
      "|2021-07-01 00:00:00|2825512|\n",
      "|2021-06-01 00:00:00|2813017|\n",
      "|2021-05-01 00:00:00|2522860|\n",
      "|2021-04-01 00:00:00|2156143|\n",
      "|2021-03-01 00:00:00|1910234|\n",
      "|2021-02-01 00:00:00|1368619|\n",
      "|2021-01-01 00:00:00|1355332|\n",
      "|2020-12-01 00:00:00|      1|\n",
      "+-------------------+-------+\n",
      "only showing top 20 rows\n",
      "\n"
     ]
    },
    {
     "name": "stderr",
     "output_type": "stream",
     "text": [
      "\r",
      "                                                                                \r"
     ]
    }
   ],
   "source": [
    "query = \"\"\"\n",
    "SELECT\n",
    "    DATE_TRUNC('MM', c.pickup_date) AS month,\n",
    "    COUNT(*) AS trips\n",
    "FROM\n",
    "    comb AS c\n",
    "GROUP BY\n",
    "    month\n",
    "ORDER BY\n",
    "    month desc\n",
    "\"\"\"\n",
    "spark.sql(query).show()"
   ]
  },
  {
   "cell_type": "markdown",
   "id": "c6956131",
   "metadata": {},
   "source": [
    "### 데이터 클리닝\n",
    "```sql\n",
    "SELECT\n",
    "    *\n",
    "FROM \n",
    "    comb AS c\n",
    "WHERE\n",
    "    c.total_amount < 1000 -- 택시비가 1000 이하\n",
    "    AND c.trip_distance < 100 -- 거리가 100마일 이하\n",
    "    AND c.total_amount > 0 -- 이상치 제거\n",
    "    AND c.passenger_count < 5 -- 택시 탄 인원이 4명 정도 까지\n",
    "    AND c.pickup_date >= '2021-01-01' -- 픽업 날짜 기준\n",
    "    AND c.pickup_date < '2022-01-01'\n",
    "```"
   ]
  },
  {
   "cell_type": "code",
   "execution_count": 30,
   "id": "e1fff5fd",
   "metadata": {},
   "outputs": [],
   "source": [
    "query = \"\"\"\n",
    "SELECT\n",
    "    *\n",
    "FROM \n",
    "    comb AS c\n",
    "WHERE\n",
    "    c.total_amount < 1000\n",
    "    AND c.trip_distance < 100\n",
    "    AND c.total_amount > 0\n",
    "    AND c.passenger_count < 5\n",
    "    AND c.pickup_date >= '2021-01-01'\n",
    "    AND c.pickup_date < '2022-01-01'\n",
    "\n",
    "\"\"\"\n",
    "\n",
    "cleaned_df = spark.sql(query)\n",
    "cleaned_df.createOrReplaceTempView('cleaned')"
   ]
  },
  {
   "cell_type": "code",
   "execution_count": 31,
   "id": "35b92509",
   "metadata": {},
   "outputs": [
    {
     "name": "stderr",
     "output_type": "stream",
     "text": [
      "[Stage 44:===================================================>      (8 + 1) / 9]\r"
     ]
    },
    {
     "name": "stdout",
     "output_type": "stream",
     "text": [
      "+-------+------------------+-----------------+-----------------+------------------+------------------+------------------+------------------+------------------+------------------+-------------------+--------------------+--------------------+\n",
      "|summary|         vender_id|      pickup_time|     dropoff_time|   passenger_count|     trip_distance|       fare_amount|        tip_amount|      tolls_amount|      total_amount|       payment_type|         pickup_zone|        dropoff_zone|\n",
      "+-------+------------------+-----------------+-----------------+------------------+------------------+------------------+------------------+------------------+------------------+-------------------+--------------------+--------------------+\n",
      "|  count|          28074691|         28074691|         28074691|          28074691|          28074691|          28074691|          28074691|          28074691|          28074691|           28074691|            28074691|            28074691|\n",
      "|   mean|1.6765079266589256|10.86415658145623|10.67605093142432|1.2632817223170862|3.0513637396754065| 12.98822909858668|  2.36031667846384|0.3582966793838395|19.202566518652603| 1.2395240966320875|                null|                null|\n",
      "| stddev|0.4678086784377449|8.275570700266623| 8.23161901887919|0.6521453338603376| 3.925456708598082|11.817230159165542|2.8035727421352132|1.7425521364265768| 14.54611012876943|0.44724368688413124|                null|                null|\n",
      "|    min|                 1|                0|                0|               0.0|               0.0|              -2.5|               0.0|               0.0|              0.01|                  1|Allerton/Pelham G...|Allerton/Pelham G...|\n",
      "|    max|                 2|               23|               23|               4.0|             99.96|             984.0|             780.0|            956.55|            988.35|                  5|      Yorkville West|      Yorkville West|\n",
      "+-------+------------------+-----------------+-----------------+------------------+------------------+------------------+------------------+------------------+------------------+-------------------+--------------------+--------------------+\n",
      "\n"
     ]
    },
    {
     "name": "stderr",
     "output_type": "stream",
     "text": [
      "\r",
      "                                                                                \r"
     ]
    }
   ],
   "source": [
    "cleaned_df.describe().show()"
   ]
  },
  {
   "cell_type": "markdown",
   "id": "a760d192",
   "metadata": {},
   "source": [
    "# Visualization"
   ]
  },
  {
   "cell_type": "code",
   "execution_count": 32,
   "id": "fcf03229",
   "metadata": {},
   "outputs": [],
   "source": [
    "import numpy as np\n",
    "import pandas as pd\n",
    "import seaborn as sns\n",
    "import matplotlib.pyplot as plt\n",
    "import matplotlib.dates as mdates"
   ]
  },
  {
   "cell_type": "code",
   "execution_count": 36,
   "id": "9eda4d68",
   "metadata": {},
   "outputs": [
    {
     "name": "stderr",
     "output_type": "stream",
     "text": [
      "                                                                                \r"
     ]
    }
   ],
   "source": [
    "query = \"\"\"\n",
    "SELECT\n",
    "    c.pickup_date,\n",
    "    COUNT(*) AS trips\n",
    "FROM\n",
    "    cleaned AS c\n",
    "GROUP BY\n",
    "    c.pickup_date\n",
    "\"\"\"\n",
    "\n",
    "pd_df = spark.sql(query).toPandas() # 판다스 형식으로 변경"
   ]
  },
  {
   "cell_type": "code",
   "execution_count": 40,
   "id": "cf382ca6",
   "metadata": {},
   "outputs": [
    {
     "data": {
      "text/plain": [
       "<AxesSubplot:xlabel='pickup_date', ylabel='trips'>"
      ]
     },
     "execution_count": 40,
     "metadata": {},
     "output_type": "execute_result"
    },
    {
     "data": {
      "image/png": "[encoded data removed]",
      "text/plain": [
       "<Figure size 1152x432 with 1 Axes>"
      ]
     },
     "metadata": {
      "needs_background": "light"
     },
     "output_type": "display_data"
    }
   ],
   "source": [
    "fig, ax = plt.subplots(figsize=(16,6)) # 도화지 생성\n",
    "sns.lineplot(x=\"pickup_date\", y=\"trips\", data=pd_df)"
   ]
  },
  {
   "cell_type": "markdown",
   "id": "03e637ad",
   "metadata": {},
   "source": [
    "- 택시 이용률이 점점 늘어나는 것을 확인할 수 있다.\n",
    "- 요일 마다 변화가 있는 것을 확인할 수 있다."
   ]
  },
  {
   "cell_type": "code",
   "execution_count": 43,
   "id": "01adac06",
   "metadata": {},
   "outputs": [
    {
     "name": "stderr",
     "output_type": "stream",
     "text": [
      "                                                                                \r"
     ]
    }
   ],
   "source": [
    "query = \"\"\"\n",
    "SELECT\n",
    "    c.pickup_date,\n",
    "    DATE_FORMAT(c.pickup_date, 'EEEE') AS day_of_week,\n",
    "    COUNT(*) AS trips\n",
    "FROM\n",
    "    cleaned AS c\n",
    "GROUP BY\n",
    "    c.pickup_date,\n",
    "    day_of_week\n",
    "\"\"\"\n",
    "\n",
    "pd_df2 = spark.sql(query).toPandas() # 판다스 형식으로 변경"
   ]
  },
  {
   "cell_type": "code",
   "execution_count": 46,
   "id": "ed989e64",
   "metadata": {},
   "outputs": [],
   "source": [
    "data = pd_df2.groupby(\"day_of_week\").trips.median().to_frame().reset_index()\n",
    "data[\"sort_dow\"] = data[\"day_of_week\"].replace({\n",
    "    \"Sunday\": 0,\n",
    "    \"Monday\": 1,\n",
    "    \"Tuesday\": 2,\n",
    "    \"Wednesday\": 3,\n",
    "    \"Thursday\": 4,\n",
    "    \"Friday\" : 5,\n",
    "    \"Saturday\" : 6\n",
    "})\n",
    "\n",
    "data.sort_values(by=\"sort_dow\", inplace=True) # 위 형식으로 정렬"
   ]
  },
  {
   "cell_type": "code",
   "execution_count": 47,
   "id": "fbcea8b7",
   "metadata": {},
   "outputs": [
    {
     "data": {
      "text/html": [
       "<div>\n",
       "<style scoped>\n",
       "    .dataframe tbody tr th:only-of-type {\n",
       "        vertical-align: middle;\n",
       "    }\n",
       "\n",
       "    .dataframe tbody tr th {\n",
       "        vertical-align: top;\n",
       "    }\n",
       "\n",
       "    .dataframe thead th {\n",
       "        text-align: right;\n",
       "    }\n",
       "</style>\n",
       "<table border=\"1\" class=\"dataframe\">\n",
       "  <thead>\n",
       "    <tr style=\"text-align: right;\">\n",
       "      <th></th>\n",
       "      <th>day_of_week</th>\n",
       "      <th>trips</th>\n",
       "      <th>sort_dow</th>\n",
       "    </tr>\n",
       "  </thead>\n",
       "  <tbody>\n",
       "    <tr>\n",
       "      <th>3</th>\n",
       "      <td>Sunday</td>\n",
       "      <td>77045.5</td>\n",
       "      <td>0</td>\n",
       "    </tr>\n",
       "    <tr>\n",
       "      <th>1</th>\n",
       "      <td>Monday</td>\n",
       "      <td>68141.5</td>\n",
       "      <td>1</td>\n",
       "    </tr>\n",
       "    <tr>\n",
       "      <th>5</th>\n",
       "      <td>Tuesday</td>\n",
       "      <td>77763.5</td>\n",
       "      <td>2</td>\n",
       "    </tr>\n",
       "    <tr>\n",
       "      <th>6</th>\n",
       "      <td>Wednesday</td>\n",
       "      <td>85369.5</td>\n",
       "      <td>3</td>\n",
       "    </tr>\n",
       "    <tr>\n",
       "      <th>4</th>\n",
       "      <td>Thursday</td>\n",
       "      <td>87374.0</td>\n",
       "      <td>4</td>\n",
       "    </tr>\n",
       "    <tr>\n",
       "      <th>0</th>\n",
       "      <td>Friday</td>\n",
       "      <td>84097.0</td>\n",
       "      <td>5</td>\n",
       "    </tr>\n",
       "    <tr>\n",
       "      <th>2</th>\n",
       "      <td>Saturday</td>\n",
       "      <td>85922.0</td>\n",
       "      <td>6</td>\n",
       "    </tr>\n",
       "  </tbody>\n",
       "</table>\n",
       "</div>"
      ],
      "text/plain": [
       "  day_of_week    trips  sort_dow\n",
       "3      Sunday  77045.5         0\n",
       "1      Monday  68141.5         1\n",
       "5     Tuesday  77763.5         2\n",
       "6   Wednesday  85369.5         3\n",
       "4    Thursday  87374.0         4\n",
       "0      Friday  84097.0         5\n",
       "2    Saturday  85922.0         6"
      ]
     },
     "execution_count": 47,
     "metadata": {},
     "output_type": "execute_result"
    }
   ],
   "source": [
    "data"
   ]
  },
  {
   "cell_type": "code",
   "execution_count": 48,
   "id": "e392030f",
   "metadata": {},
   "outputs": [
    {
     "data": {
      "text/plain": [
       "<AxesSubplot:xlabel='day_of_week', ylabel='trips'>"
      ]
     },
     "execution_count": 48,
     "metadata": {},
     "output_type": "execute_result"
    },
    {
     "data": {
      "image/png": "[encoded data removed]",
      "text/plain": [
       "<Figure size 864x360 with 1 Axes>"
      ]
     },
     "metadata": {
      "needs_background": "light"
     },
     "output_type": "display_data"
    }
   ],
   "source": [
    "fig, ax = plt.subplots(figsize=(12,5))\n",
    "sns.barplot(\n",
    "    x= 'day_of_week',\n",
    "    y= 'trips',\n",
    "    data = data\n",
    ")"
   ]
  },
  {
   "cell_type": "markdown",
   "id": "5ea6eac3",
   "metadata": {},
   "source": [
    "- 월요일이 가장 적다는 것을 알 수 있다."
   ]
  },
  {
   "cell_type": "code",
   "execution_count": 49,
   "id": "b37186d6",
   "metadata": {},
   "outputs": [
    {
     "data": {
      "text/plain": [
       "<function __main__.get_weekday(data)>"
      ]
     },
     "execution_count": 49,
     "metadata": {},
     "output_type": "execute_result"
    }
   ],
   "source": [
    "def get_weekday(data):\n",
    "    import calendar\n",
    "    return calendar.day_name[date.weekday()]\n",
    "\n",
    "spark.udf.register(\"get_weekday\", get_weekday)"
   ]
  },
  {
   "cell_type": "markdown",
   "id": "06077b4b",
   "metadata": {},
   "source": [
    "`DATE_FORMAT(c.pickup_date, 'EEEE')` 대신에 `get_weekday`라는 함수를 새로 지정해 사용해도 된다."
   ]
  },
  {
   "cell_type": "code",
   "execution_count": 50,
   "id": "d596bd0e",
   "metadata": {},
   "outputs": [],
   "source": [
    "query = \"\"\"\n",
    "SELECT\n",
    "    c.pickup_date,\n",
    "    get_weekday(c.pickup_date) AS day_of_week,\n",
    "    COUNT(*) AS trips\n",
    "FROM\n",
    "    cleaned AS c\n",
    "GROUP BY\n",
    "    c.pickup_date,\n",
    "    day_of_week\n",
    "\n",
    "\"\"\""
   ]
  },
  {
   "cell_type": "code",
   "execution_count": 51,
   "id": "fbcc1276",
   "metadata": {},
   "outputs": [
    {
     "data": {
      "text/plain": [
       "<function __main__.parse_payment_type(payment_type)>"
      ]
     },
     "execution_count": 51,
     "metadata": {},
     "output_type": "execute_result"
    }
   ],
   "source": [
    "payment_type_to_string = {\n",
    "        1: \"Credit Card\",\n",
    "        2: \"Cash\",\n",
    "        3: \"No Charge\",\n",
    "        4: \"Dispute\",\n",
    "        5: \"Unknown\",\n",
    "        6: \"Voided Trip\",\n",
    "}\n",
    "\n",
    "def parse_payment_type(payment_type):\n",
    "    return payment_type_to_string[payment_type]\n",
    "\n",
    "spark.udf.register(\"parse_payment_type\", parse_payment_type)"
   ]
  },
  {
   "cell_type": "code",
   "execution_count": 52,
   "id": "67198e9b",
   "metadata": {},
   "outputs": [
    {
     "name": "stderr",
     "output_type": "stream",
     "text": [
      "[Stage 64:===================================================>      (8 + 1) / 9]\r"
     ]
    },
    {
     "name": "stdout",
     "output_type": "stream",
     "text": [
      "+--------------------------------+--------+------------------+------------------+\n",
      "|parse_payment_type(payment_type)|   trips|  mean_fare_amount| stdev_fare_amount|\n",
      "+--------------------------------+--------+------------------+------------------+\n",
      "|                         Unknown|       2|              10.9| 9.758073580374356|\n",
      "|                     Credit Card|21554749|13.071420434540233|11.722677966226685|\n",
      "|                       No Charge|  112051|12.355888033127766| 16.51889282655416|\n",
      "|                            Cash| 6361606|12.715889335177273|11.995927085569917|\n",
      "|                         Dispute|   46283|13.208796750426723|15.948670768582101|\n",
      "+--------------------------------+--------+------------------+------------------+\n",
      "\n"
     ]
    },
    {
     "name": "stderr",
     "output_type": "stream",
     "text": [
      "\r",
      "[Stage 66:>                                                         (0 + 1) / 1]\r",
      "\r",
      "                                                                                \r"
     ]
    }
   ],
   "source": [
    "query = \"\"\"\n",
    "SELECT\n",
    "    parse_payment_type(payment_type),\n",
    "    count(*) AS trips,\n",
    "    MEAN(fare_amount) AS mean_fare_amount,\n",
    "    STD(fare_amount) AS stdev_fare_amount\n",
    "FROM\n",
    "    cleaned\n",
    "GROUP BY\n",
    "    payment_type\n",
    "\n",
    "\"\"\"\n",
    "\n",
    "spark.sql(query).show()"
   ]
  },
  {
   "cell_type": "markdown",
   "id": "088ef58e",
   "metadata": {},
   "source": [
    "- Dispute : 분쟁이 있는 경우\n",
    "- Creait Card 로 계산한 사람이 많음."
   ]
  }
 ],
 "metadata": {
  "kernelspec": {
   "display_name": "Python 3 (ipykernel)",
   "language": "python",
   "name": "python3"
  },
  "language_info": {
   "codemirror_mode": {
    "name": "ipython",
    "version": 3
   },
   "file_extension": ".py",
   "mimetype": "text/x-python",
   "name": "python",
   "nbconvert_exporter": "python",
   "pygments_lexer": "ipython3",
   "version": "3.9.7"
  }
 },
 "nbformat": 4,
 "nbformat_minor": 5
}
